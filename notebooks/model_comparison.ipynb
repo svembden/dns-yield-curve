{
 "cells": [
  {
   "cell_type": "markdown",
   "metadata": {},
   "source": [
    "# Model Comparison for Dynamic Nelson Siegel Estimation\n",
    "\n",
    "This notebook compares different estimation methods for the Dynamic Nelson Siegel model using the US Yield Curve data from 1972 to 2000."
   ]
  },
  {
   "cell_type": "code",
   "execution_count": 1,
   "metadata": {},
   "outputs": [
    {
     "data": {
      "application/vnd.microsoft.datawrangler.viewer.v0+json": {
       "columns": [
        {
         "name": "date",
         "rawType": "object",
         "type": "string"
        },
        {
         "name": "M3",
         "rawType": "float64",
         "type": "float"
        },
        {
         "name": "M6",
         "rawType": "float64",
         "type": "float"
        },
        {
         "name": "M9",
         "rawType": "float64",
         "type": "float"
        },
        {
         "name": "M12",
         "rawType": "float64",
         "type": "float"
        },
        {
         "name": "M15",
         "rawType": "float64",
         "type": "float"
        },
        {
         "name": "M18",
         "rawType": "float64",
         "type": "float"
        },
        {
         "name": "M21",
         "rawType": "float64",
         "type": "float"
        },
        {
         "name": "M24",
         "rawType": "float64",
         "type": "float"
        },
        {
         "name": "M30",
         "rawType": "float64",
         "type": "float"
        },
        {
         "name": "M36",
         "rawType": "float64",
         "type": "float"
        },
        {
         "name": "M48",
         "rawType": "float64",
         "type": "float"
        },
        {
         "name": "M60",
         "rawType": "float64",
         "type": "float"
        },
        {
         "name": "M72",
         "rawType": "float64",
         "type": "float"
        },
        {
         "name": "M84",
         "rawType": "float64",
         "type": "float"
        },
        {
         "name": "M96",
         "rawType": "float64",
         "type": "float"
        },
        {
         "name": "M108",
         "rawType": "float64",
         "type": "float"
        },
        {
         "name": "M120",
         "rawType": "float64",
         "type": "float"
        }
       ],
       "conversionMethod": "pd.DataFrame",
       "ref": "d1f80a3d-150a-4bb1-8d23-3bc815be6d76",
       "rows": [
        [
         "1972:01",
         "3.382",
         "3.782",
         "3.995",
         "4.12",
         "4.442",
         "4.595",
         "4.714",
         "4.804",
         "5.1",
         "5.331",
         "5.479",
         "5.718",
         "5.971",
         "6.007",
         "6.026",
         "6.041",
         "6.088"
        ],
        [
         "1972:02",
         "3.47",
         "3.831",
         "3.983",
         "4.291",
         "4.391",
         "4.443",
         "4.626",
         "4.769",
         "5.04",
         "5.246",
         "5.443",
         "5.665",
         "5.897",
         "5.96",
         "6.028",
         "6.082",
         "6.283"
        ],
        [
         "1972:03",
         "3.874",
         "4.463",
         "4.663",
         "4.937",
         "5.141",
         "5.317",
         "5.466",
         "5.528",
         "5.59",
         "5.774",
         "5.875",
         "5.999",
         "6.119",
         "6.11",
         "6.096",
         "6.084",
         "6.269"
        ],
        [
         "1972:04",
         "3.648",
         "4.113",
         "4.355",
         "4.527",
         "4.568",
         "4.78",
         "4.969",
         "5.109",
         "5.354",
         "5.526",
         "5.644",
         "5.798",
         "5.941",
         "5.98",
         "6.063",
         "6.128",
         "6.24"
        ],
        [
         "1972:05",
         "3.835",
         "4.232",
         "4.446",
         "4.631",
         "4.63",
         "4.76",
         "4.855",
         "4.947",
         "5.178",
         "5.382",
         "5.563",
         "5.715",
         "5.894",
         "5.937",
         "5.996",
         "6.042",
         "6.249"
        ]
       ],
       "shape": {
        "columns": 17,
        "rows": 5
       }
      },
      "text/html": [
       "<div>\n",
       "<style scoped>\n",
       "    .dataframe tbody tr th:only-of-type {\n",
       "        vertical-align: middle;\n",
       "    }\n",
       "\n",
       "    .dataframe tbody tr th {\n",
       "        vertical-align: top;\n",
       "    }\n",
       "\n",
       "    .dataframe thead th {\n",
       "        text-align: right;\n",
       "    }\n",
       "</style>\n",
       "<table border=\"1\" class=\"dataframe\">\n",
       "  <thead>\n",
       "    <tr style=\"text-align: right;\">\n",
       "      <th></th>\n",
       "      <th>M3</th>\n",
       "      <th>M6</th>\n",
       "      <th>M9</th>\n",
       "      <th>M12</th>\n",
       "      <th>M15</th>\n",
       "      <th>M18</th>\n",
       "      <th>M21</th>\n",
       "      <th>M24</th>\n",
       "      <th>M30</th>\n",
       "      <th>M36</th>\n",
       "      <th>M48</th>\n",
       "      <th>M60</th>\n",
       "      <th>M72</th>\n",
       "      <th>M84</th>\n",
       "      <th>M96</th>\n",
       "      <th>M108</th>\n",
       "      <th>M120</th>\n",
       "    </tr>\n",
       "    <tr>\n",
       "      <th>date</th>\n",
       "      <th></th>\n",
       "      <th></th>\n",
       "      <th></th>\n",
       "      <th></th>\n",
       "      <th></th>\n",
       "      <th></th>\n",
       "      <th></th>\n",
       "      <th></th>\n",
       "      <th></th>\n",
       "      <th></th>\n",
       "      <th></th>\n",
       "      <th></th>\n",
       "      <th></th>\n",
       "      <th></th>\n",
       "      <th></th>\n",
       "      <th></th>\n",
       "      <th></th>\n",
       "    </tr>\n",
       "  </thead>\n",
       "  <tbody>\n",
       "    <tr>\n",
       "      <th>1972:01</th>\n",
       "      <td>3.382</td>\n",
       "      <td>3.782</td>\n",
       "      <td>3.995</td>\n",
       "      <td>4.120</td>\n",
       "      <td>4.442</td>\n",
       "      <td>4.595</td>\n",
       "      <td>4.714</td>\n",
       "      <td>4.804</td>\n",
       "      <td>5.100</td>\n",
       "      <td>5.331</td>\n",
       "      <td>5.479</td>\n",
       "      <td>5.718</td>\n",
       "      <td>5.971</td>\n",
       "      <td>6.007</td>\n",
       "      <td>6.026</td>\n",
       "      <td>6.041</td>\n",
       "      <td>6.088</td>\n",
       "    </tr>\n",
       "    <tr>\n",
       "      <th>1972:02</th>\n",
       "      <td>3.470</td>\n",
       "      <td>3.831</td>\n",
       "      <td>3.983</td>\n",
       "      <td>4.291</td>\n",
       "      <td>4.391</td>\n",
       "      <td>4.443</td>\n",
       "      <td>4.626</td>\n",
       "      <td>4.769</td>\n",
       "      <td>5.040</td>\n",
       "      <td>5.246</td>\n",
       "      <td>5.443</td>\n",
       "      <td>5.665</td>\n",
       "      <td>5.897</td>\n",
       "      <td>5.960</td>\n",
       "      <td>6.028</td>\n",
       "      <td>6.082</td>\n",
       "      <td>6.283</td>\n",
       "    </tr>\n",
       "    <tr>\n",
       "      <th>1972:03</th>\n",
       "      <td>3.874</td>\n",
       "      <td>4.463</td>\n",
       "      <td>4.663</td>\n",
       "      <td>4.937</td>\n",
       "      <td>5.141</td>\n",
       "      <td>5.317</td>\n",
       "      <td>5.466</td>\n",
       "      <td>5.528</td>\n",
       "      <td>5.590</td>\n",
       "      <td>5.774</td>\n",
       "      <td>5.875</td>\n",
       "      <td>5.999</td>\n",
       "      <td>6.119</td>\n",
       "      <td>6.110</td>\n",
       "      <td>6.096</td>\n",
       "      <td>6.084</td>\n",
       "      <td>6.269</td>\n",
       "    </tr>\n",
       "    <tr>\n",
       "      <th>1972:04</th>\n",
       "      <td>3.648</td>\n",
       "      <td>4.113</td>\n",
       "      <td>4.355</td>\n",
       "      <td>4.527</td>\n",
       "      <td>4.568</td>\n",
       "      <td>4.780</td>\n",
       "      <td>4.969</td>\n",
       "      <td>5.109</td>\n",
       "      <td>5.354</td>\n",
       "      <td>5.526</td>\n",
       "      <td>5.644</td>\n",
       "      <td>5.798</td>\n",
       "      <td>5.941</td>\n",
       "      <td>5.980</td>\n",
       "      <td>6.063</td>\n",
       "      <td>6.128</td>\n",
       "      <td>6.240</td>\n",
       "    </tr>\n",
       "    <tr>\n",
       "      <th>1972:05</th>\n",
       "      <td>3.835</td>\n",
       "      <td>4.232</td>\n",
       "      <td>4.446</td>\n",
       "      <td>4.631</td>\n",
       "      <td>4.630</td>\n",
       "      <td>4.760</td>\n",
       "      <td>4.855</td>\n",
       "      <td>4.947</td>\n",
       "      <td>5.178</td>\n",
       "      <td>5.382</td>\n",
       "      <td>5.563</td>\n",
       "      <td>5.715</td>\n",
       "      <td>5.894</td>\n",
       "      <td>5.937</td>\n",
       "      <td>5.996</td>\n",
       "      <td>6.042</td>\n",
       "      <td>6.249</td>\n",
       "    </tr>\n",
       "  </tbody>\n",
       "</table>\n",
       "</div>"
      ],
      "text/plain": [
       "            M3     M6     M9    M12    M15    M18    M21    M24    M30    M36  \\\n",
       "date                                                                            \n",
       "1972:01  3.382  3.782  3.995  4.120  4.442  4.595  4.714  4.804  5.100  5.331   \n",
       "1972:02  3.470  3.831  3.983  4.291  4.391  4.443  4.626  4.769  5.040  5.246   \n",
       "1972:03  3.874  4.463  4.663  4.937  5.141  5.317  5.466  5.528  5.590  5.774   \n",
       "1972:04  3.648  4.113  4.355  4.527  4.568  4.780  4.969  5.109  5.354  5.526   \n",
       "1972:05  3.835  4.232  4.446  4.631  4.630  4.760  4.855  4.947  5.178  5.382   \n",
       "\n",
       "           M48    M60    M72    M84    M96   M108   M120  \n",
       "date                                                      \n",
       "1972:01  5.479  5.718  5.971  6.007  6.026  6.041  6.088  \n",
       "1972:02  5.443  5.665  5.897  5.960  6.028  6.082  6.283  \n",
       "1972:03  5.875  5.999  6.119  6.110  6.096  6.084  6.269  \n",
       "1972:04  5.644  5.798  5.941  5.980  6.063  6.128  6.240  \n",
       "1972:05  5.563  5.715  5.894  5.937  5.996  6.042  6.249  "
      ]
     },
     "execution_count": 1,
     "metadata": {},
     "output_type": "execute_result"
    }
   ],
   "source": [
    "import pandas as pd\n",
    "\n",
    "import sys\n",
    "import os\n",
    "\n",
    "# Add the src/ directory to the Python path\n",
    "sys.path.append(os.path.abspath(\"../src\"))\n",
    "# Load the data\n",
    "url = 'https://www.dropbox.com/s/inpnlugzkddp42q/bonds.csv?dl=1'\n",
    "df = pd.read_csv(url, sep=';', index_col=0)\n",
    "\n",
    "# Display the first few rows of the dataset\n",
    "df.head()"
   ]
  },
  {
   "cell_type": "markdown",
   "metadata": {},
   "source": [
    "## Approach 1: Cross-Sectional DNS Parameter Estimation\n",
    "\n",
    "In this section, we will estimate the cross-sectional DNS parameters (βs) at each point in time and model their dynamics using a VAR."
   ]
  },
  {
   "cell_type": "code",
   "execution_count": 2,
   "metadata": {},
   "outputs": [
    {
     "name": "stdout",
     "output_type": "stream",
     "text": [
      "[2025-04-20 14:30:35] [INFO] [dnss.models.cross_sectional_var] Starting parameter estimation...\n"
     ]
    },
    {
     "name": "stderr",
     "output_type": "stream",
     "text": [
      "c:\\Users\\semva\\OneDrive\\Documenten\\Code Projects\\DNS_py\\dns-yield-curve\\src\\dnss\\models\\cross_sectional_var.py:97: FutureWarning: Downcasting object dtype arrays on .fillna, .ffill, .bfill is deprecated and will change in a future version. Call result.infer_objects(copy=False) instead. To opt-in to the future behavior, set `pd.set_option('future.no_silent_downcasting', True)`\n",
      "  params = params.fillna(0).infer_objects(copy=False)\n"
     ]
    },
    {
     "name": "stdout",
     "output_type": "stream",
     "text": [
      "[2025-04-20 14:30:40] [INFO] [dnss.models.cross_sectional_var] Fitting VAR model...\n"
     ]
    },
    {
     "name": "stderr",
     "output_type": "stream",
     "text": [
      "c:\\Users\\semva\\AppData\\Local\\Programs\\Python\\Python312\\Lib\\site-packages\\statsmodels\\tsa\\base\\tsa_model.py:473: ValueWarning: No frequency information was provided, so inferred frequency MS will be used.\n",
      "  self._init_dates(dates, freq)\n"
     ]
    },
    {
     "data": {
      "text/plain": [
       "<dnss.models.cross_sectional_var.CSVAR at 0x1745765b140>"
      ]
     },
     "execution_count": 2,
     "metadata": {},
     "output_type": "execute_result"
    }
   ],
   "source": [
    "import sys\n",
    "import os\n",
    "\n",
    "# Add the src directory to sys.path\n",
    "sys.path.append(os.path.abspath(\"../src\"))\n",
    "from dnss.models.cross_sectional_var import CSVAR\n",
    "\n",
    "\n",
    "model = CSVAR()\n",
    "dates = pd.to_datetime(df.index, format='%Y:%m')\n",
    "maturities = [3, 6, 9, 12, 15, 18, 21, 24, 30, 36, 48, 60, 72, 84, 96, 108, 120]\n",
    "\n",
    "model.fit(dates=dates, maturities=maturities, data=df)"
   ]
  },
  {
   "cell_type": "markdown",
   "metadata": {},
   "source": [
    "## Conclusion\n",
    "\n",
    "This notebook has demonstrated the first approach for estimating the Dynamic Nelson Siegel model using cross-sectional parameters. Further comparisons with other methods will be conducted in subsequent sections."
   ]
  }
 ],
 "metadata": {
  "kernelspec": {
   "display_name": "Python 3",
   "language": "python",
   "name": "python3"
  },
  "language_info": {
   "codemirror_mode": {
    "name": "ipython",
    "version": 3
   },
   "file_extension": ".py",
   "mimetype": "text/x-python",
   "name": "python",
   "nbconvert_exporter": "python",
   "pygments_lexer": "ipython3",
   "version": "3.12.4"
  }
 },
 "nbformat": 4,
 "nbformat_minor": 4
}
