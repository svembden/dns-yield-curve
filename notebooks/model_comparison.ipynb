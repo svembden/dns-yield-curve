{
 "cells": [
  {
   "cell_type": "markdown",
   "metadata": {},
   "source": [
    "# Model Comparison for Dynamic Nelson Siegel Estimation\n",
    "\n",
    "This notebook compares different estimation methods for the Dynamic Nelson Siegel model using the US Yield Curve data from 1972 to 2000."
   ]
  },
  {
   "cell_type": "code",
   "execution_count": 1,
   "metadata": {},
   "outputs": [],
   "source": [
    "import pandas as pd\n",
    "from src.dns.models.cross_sectional import estimate_cross_sectional_parameters\n",
    "from src.dns.data.loader import load_data\n",
    "\n",
    "# Load the data\n",
    "url = 'https://www.dropbox.com/s/inpnlugzkddp42q/bonds.csv?dl=1'\n",
    "df = pd.read_csv(url, sep=';', index_col=0)\n",
    "\n",
    "# Display the first few rows of the dataset\n",
    "df.head()"
   ]
  },
  {
   "cell_type": "markdown",
   "metadata": {},
   "source": [
    "## Approach 1: Cross-Sectional DNS Parameter Estimation\n",
    "\n",
    "In this section, we will estimate the cross-sectional DNS parameters (βs) at each point in time and model their dynamics using a VAR."
   ]
  },
  {
   "cell_type": "code",
   "execution_count": 2,
   "metadata": {},
   "outputs": [],
   "source": [
    "# Estimate cross-sectional parameters\n",
    "cross_sectional_results = estimate_cross_sectional_parameters(df)\n",
    "\n",
    "# Display the results\n",
    "cross_sectional_results"
   ]
  },
  {
   "cell_type": "markdown",
   "metadata": {},
   "source": [
    "## Conclusion\n",
    "\n",
    "This notebook has demonstrated the first approach for estimating the Dynamic Nelson Siegel model using cross-sectional parameters. Further comparisons with other methods will be conducted in subsequent sections."
   ]
  }
 ],
 "metadata": {
  "kernelspec": {
   "display_name": "Python 3",
   "language": "python",
   "name": "python3"
  },
  "language_info": {
   "codemirror_mode": {
    "name": "ipython",
    "version": 3
   },
   "file_extension": ".py",
   "mimetype": "text/x-python",
   "name": "python",
   "nbconvert_exporter": "python",
   "pygments_lexer": "ipython3",
   "version": "3.8.5"
  }
 },
 "nbformat": 4,
 "nbformat_minor": 4
}